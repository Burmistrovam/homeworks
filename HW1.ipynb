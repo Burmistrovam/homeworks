{
 "cells": [
  {
   "cell_type": "code",
   "execution_count": 3,
   "metadata": {},
   "outputs": [
    {
     "name": "stdout",
     "output_type": "stream",
     "text": [
      "5\n",
      "    _~_        _~_        _~_        _~_        _~_    \n",
      "   (o o)      (o o)      (o o)      (o o)      (o o)   \n",
      "  /  V  \\    /  V  \\    /  V  \\    /  V  \\    /  V  \\  \n",
      " /(  _  )\\  /(  _  )\\  /(  _  )\\  /(  _  )\\  /(  _  )\\ \n",
      "   ^^ ^^      ^^ ^^      ^^ ^^      ^^ ^^      ^^ ^^   \n"
     ]
    }
   ],
   "source": [
    "v = int(input()) #функция, которая подхватывает введенную пользователем\n",
    "#в консоли строку\n",
    "a1 = '    _~_    '\n",
    "a2 = '   (o o)   '\n",
    "a3 = '  /  V  \\  '\n",
    "a4 = ' /(  _  )\\ '\n",
    "a5 = '   ^^ ^^   '\n",
    " \n",
    "print(a1*v)\n",
    "print(a2*v)\n",
    "print(a3*v)\n",
    "print(a4*v)\n",
    "print(a5*v)"
   ]
  },
  {
   "cell_type": "raw",
   "metadata": {},
   "source": []
  },
  {
   "cell_type": "code",
   "execution_count": 25,
   "metadata": {},
   "outputs": [
    {
     "name": "stdout",
     "output_type": "stream",
     "text": [
      "Количество слов:3\n",
      "Количество символов:16\n"
     ]
    }
   ],
   "source": [
    "sentence = 'I love spaghetti'\n",
    "letters = list(sentence)\n",
    "words = sentence.split()\n",
    "print(\"Количество слов:\" + str(len(words)))\n",
    "print(\"Количество символов:\" + str(len(letters)))"
   ]
  },
  {
   "cell_type": "code",
   "execution_count": 66,
   "metadata": {},
   "outputs": [
    {
     "name": "stdout",
     "output_type": "stream",
     "text": [
      "р\n",
      "и\n",
      "Строк\n",
      "Строка — ряд знаков, написанных или напечатанных в одну лин\n",
      "Срк  я нкв аианхиинпчтны  дулню\n",
      "тоа—рдзао,нпсны л аеаанхвон ии\n",
      "юинил ундо в хыннатачепан или хыннасипан ,воканз дяр — акортС\n",
      "юнлуд  ынтчпниихнаиа вкн я  крС\n",
      "61\n"
     ]
    }
   ],
   "source": [
    "phrase = \"Строка — ряд знаков, написанных или напечатанных в одну линию\"\n",
    "letters = list(phrase)\n",
    "print(phrase[2])\n",
    "print(phrase[-2])\n",
    "print(phrase[:5])\n",
    "print(phrase[:-2])\n",
    "print(phrase[::2])\n",
    "print(phrase[1::2])\n",
    "print(phrase[::-1])\n",
    "print(phrase[::-2])\n",
    "print(len(phrase))\n",
    "\n"
   ]
  },
  {
   "cell_type": "code",
   "execution_count": null,
   "metadata": {},
   "outputs": [],
   "source": []
  }
 ],
 "metadata": {
  "kernelspec": {
   "display_name": "Python 3",
   "language": "python",
   "name": "python3"
  },
  "language_info": {
   "codemirror_mode": {
    "name": "ipython",
    "version": 3
   },
   "file_extension": ".py",
   "mimetype": "text/x-python",
   "name": "python",
   "nbconvert_exporter": "python",
   "pygments_lexer": "ipython3",
   "version": "3.6.4"
  }
 },
 "nbformat": 4,
 "nbformat_minor": 2
}
