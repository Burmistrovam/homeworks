{
 "cells": [
  {
   "cell_type": "code",
   "execution_count": null,
   "metadata": {},
   "outputs": [],
   "source": [
    "#ДЗ2 оцениваемое"
   ]
  },
  {
   "cell_type": "code",
   "execution_count": null,
   "metadata": {},
   "outputs": [],
   "source": [
    "Задание 1"
   ]
  },
  {
   "cell_type": "code",
   "execution_count": 41,
   "metadata": {},
   "outputs": [
    {
     "name": "stdout",
     "output_type": "stream",
     "text": [
      "[['варкалось', 'хливкие'], ['хливкие', 'шорьки'], ['шорьки', 'пырялись'], ['пырялись', 'по'], ['по', 'наве'], ['наве', 'и'], ['и', 'хрюкотали'], ['хрюкотали', 'зелюки'], ['зелюки', 'как'], ['как', 'мюмзики'], ['мюмзики', 'в'], ['в', 'мове'], ['мове', 'о'], ['о', 'бойся'], ['бойся', 'бармаглота'], ['бармаглота', 'сын'], ['сын', 'он'], ['он', 'так'], ['так', 'свирлеп'], ['свирлеп', 'и'], ['и', 'дик'], ['дик', 'а'], ['а', 'в'], ['в', 'глyще'], ['глyще', 'рымит'], ['рымит', 'исполин'], ['исполин', 'злопастный'], ['злопастный', 'брандашмыг']]\n"
     ]
    }
   ],
   "source": [
    "sentence = '''варкалось хливкие шорьки пырялись по наве и хрюкотали зелюки как мюмзики в мове о бойся бармаглота сын он так свирлеп и дик а в глyще рымит исполин злопастный брандашмыг'''\n",
    "words = sentence.split() #разделила на слова\n",
    "bigrams = []\n",
    "for i in range(len(words)-1): #сделала цикл\n",
    "    bigrams.append([words[i],words[i+1]])\n",
    "print(bigrams)\n"
   ]
  },
  {
   "cell_type": "code",
   "execution_count": null,
   "metadata": {},
   "outputs": [],
   "source": [
    "Задание 2\n",
    "\n",
    "1. Если вы не делали git pull или git clone: cкачать архив с текстовыми файлами отсюда и распаковать его. Если делали, то все нужные файлы уже есть в папке poem\n",
    "Распечатать текущую директорию и список всех файлов и папок в ней. Посчитать и распечатать количество файлов.\n",
    "Пройтись циклом по рабочей директории, читая содержимое каждого файла и записывая его в новый файл poems.txt По завершении цикла должен получиться файл со всеми стихотворениями!"
   ]
  },
  {
   "cell_type": "code",
   "execution_count": 7,
   "metadata": {},
   "outputs": [
    {
     "name": "stdout",
     "output_type": "stream",
     "text": [
      "['сказки', 'котики']\n",
      "['шредингер.txt', 'боль.txt', 'ворон.txt', 'кладь.txt', 'деды.txt', 'ночь.txt']\n",
      "6\n",
      "[]\n",
      "['король.txt', 'крестная.txt', 'гримм.txt', 'королевич.txt', 'яга.txt']\n",
      "5\n",
      "[]\n",
      "['кот.txt', 'пушок.txt', 'лео.txt']\n",
      "3\n"
     ]
    }
   ],
   "source": [
    "import os #импорт модуля\n",
    "os.chdir('/Users/mary/Desktop/Учеба/Учеба 18-19/Минор/python-dh-hw/poems') #поменяла рабочую директорию\n",
    "for root, dirs, files in os.walk('.'): #использую в цикле функцию\n",
    "    print (dirs) \n",
    "    print (files) \n",
    "    print(len(files)) "
   ]
  },
  {
   "cell_type": "code",
   "execution_count": 9,
   "metadata": {},
   "outputs": [
    {
     "name": "stdout",
     "output_type": "stream",
     "text": [
      "\n",
      "приходит муж домой пораньше \n",
      "измену в нём предположив \n",
      "а шрёдингер в шкафу не мёртв и \n",
      "не жив\n",
      "а боль у вас какого рода \n",
      "спросил дежурный врач а я \n",
      "как на духу она ответил \n",
      "моя\n",
      "американский чорный ворон \n",
      "как наш красив и голосист \n",
      "но попроси не виться сразу \n",
      "расист\n",
      "мы б вас охотно пропустили \n",
      "с ручною кладью но пока \n",
      "она у вас недопустимо \n",
      "дика \n",
      "на спиритическом сеансе \n",
      "желая водки и еды \n",
      "привычно вызывали духов \n",
      "деды \n",
      "ночь улица фонарь аптека \n",
      "вдруг вспомнил что утюг включон \n",
      "акетпа ираноф ацилу \n",
      "и ьчон\n",
      "\n"
     ]
    }
   ],
   "source": [
    "with open('poems.txt','w',encoding='utf-8') as f: \n",
    "    for root, dirs, files in os.walk('.'):\n",
    "        for file in files: #цикл\n",
    "            if os.path.exists(file): #условное выражение\n",
    "                with open(file,'r',encoding='utf-8') as name:\n",
    "                    name=name.read() #читаем файл \n",
    "                    f.write(name+ '\\n') #записываем с помощью функции\n",
    "            elif os.path.exists('.\\котики\\%s' %file):\n",
    "                with open('.\\котики\\%s' %file,'r',encoding='utf-8') as name:\n",
    "                    name=name.read()\n",
    "                    f.write(name+ '\\n')\n",
    "            elif os.path.exists('.\\сказки\\%s' %file):\n",
    "                with open('.\\сказки\\%s' %file,'r',encoding='utf-8') as name:\n",
    "                    name=name.read()\n",
    "                    f.write(name+ '\\n')\n",
    "with open ('poems.txt','r',encoding='utf-8') as q:\n",
    "    print (q.read())"
   ]
  },
  {
   "cell_type": "code",
   "execution_count": 12,
   "metadata": {},
   "outputs": [
    {
     "name": "stdout",
     "output_type": "stream",
     "text": [
      "291\n",
      "['Удивительная', 'кошка', 'Несчастная', 'кошка', 'порезала', 'лапу', 'Сидит', 'и', 'ни', 'шагу', 'не', 'может', 'ступить', 'Скорей', 'чтобы', 'вылечить', 'кошкину', 'лапу', 'Воздушные', 'шарики', 'надо', 'купить', 'И', 'сразу', 'столпился', 'народ', 'на', 'дороге', 'Шумит', 'и', 'кричит', 'и', 'на', 'кошку', 'глядит', 'А', 'кошка', 'отчасти', 'идет', 'по', 'дороге', 'Отчасти', 'по', 'воздуху', 'плавно', 'летит']\n",
      "Удивительная кошка Несчастная кошка порезала лапу Сидит и ни шагу не может ступить Скорей чтобы вылечить кошкину лапу Воздушные шарики надо купить И сразу столпился народ на дороге Шумит и кричит и на кошку глядит А кошка отчасти идет по дороге Отчасти по воздуху плавно летит\n"
     ]
    }
   ],
   "source": [
    "poem = '''Удивительная кошка\n",
    "\n",
    "Несчастная кошка порезала лапу- \n",
    "Сидит, и ни шагу не может ступить.\n",
    "Скорей, чтобы вылечить кошкину лапу\n",
    "Воздушные шарики надо купить!\n",
    "\n",
    "И сразу столпился народ на дороге-\n",
    "Шумит, и кричит, и на кошку глядит.\n",
    "А кошка отчасти идет по дороге,\n",
    "Отчасти по воздуху плавно летит!\n",
    "'''"
   ]
  },
  {
   "cell_type": "code",
   "execution_count": 13,
   "metadata": {},
   "outputs": [
    {
     "name": "stdout",
     "output_type": "stream",
     "text": [
      "291\n"
     ]
    }
   ],
   "source": [
    "print(len(poem)) #считаем кол-во слов\n"
   ]
  },
  {
   "cell_type": "code",
   "execution_count": 14,
   "metadata": {},
   "outputs": [
    {
     "name": "stdout",
     "output_type": "stream",
     "text": [
      "['Удивительная', 'кошка', 'Несчастная', 'кошка', 'порезала', 'лапу', 'Сидит', 'и', 'ни', 'шагу', 'не', 'может', 'ступить', 'Скорей', 'чтобы', 'вылечить', 'кошкину', 'лапу', 'Воздушные', 'шарики', 'надо', 'купить', 'И', 'сразу', 'столпился', 'народ', 'на', 'дороге', 'Шумит', 'и', 'кричит', 'и', 'на', 'кошку', 'глядит', 'А', 'кошка', 'отчасти', 'идет', 'по', 'дороге', 'Отчасти', 'по', 'воздуху', 'плавно', 'летит']\n"
     ]
    }
   ],
   "source": [
    "words = []\n",
    "for word in poem.split(): #без генератора списка \n",
    "    words.append(word.strip(\"!?.,-\"))\n",
    "print(words)"
   ]
  },
  {
   "cell_type": "code",
   "execution_count": 15,
   "metadata": {
    "scrolled": true
   },
   "outputs": [
    {
     "name": "stdout",
     "output_type": "stream",
     "text": [
      "Удивительная кошка Несчастная кошка порезала лапу Сидит и ни шагу не может ступить Скорей чтобы вылечить кошкину лапу Воздушные шарики надо купить И сразу столпился народ на дороге Шумит и кричит и на кошку глядит А кошка отчасти идет по дороге Отчасти по воздуху плавно летит\n"
     ]
    }
   ],
   "source": [
    "poem2 = ' '.join(words) #функция для соединения\n",
    "print(poem2)"
   ]
  },
  {
   "cell_type": "code",
   "execution_count": 18,
   "metadata": {},
   "outputs": [
    {
     "ename": "SyntaxError",
     "evalue": "unexpected EOF while parsing (<ipython-input-18-7f07220bcc93>, line 1)",
     "output_type": "error",
     "traceback": [
      "\u001b[0;36m  File \u001b[0;32m\"<ipython-input-18-7f07220bcc93>\"\u001b[0;36m, line \u001b[0;32m1\u001b[0m\n\u001b[0;31m    print([[w for w in poem2 if w.istitle()]]\u001b[0m\n\u001b[0m                                             ^\u001b[0m\n\u001b[0;31mSyntaxError\u001b[0m\u001b[0;31m:\u001b[0m unexpected EOF while parsing\n"
     ]
    }
   ],
   "source": [
    "print([[w for w in poem2 if w.istitle()]]"
   ]
  },
  {
   "cell_type": "code",
   "execution_count": 19,
   "metadata": {},
   "outputs": [
    {
     "name": "stdout",
     "output_type": "stream",
     "text": [
      "46\n"
     ]
    }
   ],
   "source": [
    "print(len(words)) #длина текста в словах"
   ]
  },
  {
   "cell_type": "code",
   "execution_count": 21,
   "metadata": {},
   "outputs": [
    {
     "name": "stdout",
     "output_type": "stream",
     "text": [
      "35\n"
     ]
    }
   ],
   "source": [
    "poem3 = set(poem2) #превращаем в множество, чтобы узнать кол-во уникальных слов\n",
    "print(len(poem3))"
   ]
  },
  {
   "cell_type": "code",
   "execution_count": 27,
   "metadata": {},
   "outputs": [
    {
     "name": "stdout",
     "output_type": "stream",
     "text": [
      "['кошка', 'отчасти', 'идет', 'по', 'дороге', 'Отчасти', 'по', 'воздуху', 'плавно', 'летит']\n"
     ]
    }
   ],
   "source": [
    "print(words[-10:]) #печатаю последние 10 слов."
   ]
  },
  {
   "cell_type": "code",
   "execution_count": 30,
   "metadata": {},
   "outputs": [
    {
     "name": "stdout",
     "output_type": "stream",
     "text": [
      "Удивительная\n",
      " кошка\n",
      " Несчастная\n",
      " кошка\n",
      " порезала\n",
      " лапу\n",
      " Сидит\n",
      " и\n",
      " ни\n",
      " шагу\n",
      " не\n",
      " может\n",
      " ступить\n",
      " Скорей\n",
      " чтобы\n",
      " вылечить\n",
      " кошкину\n",
      " лапу\n",
      " Воздушные\n",
      " шарики\n",
      " надо\n",
      " купить\n",
      " И\n",
      " сразу\n",
      " столпился\n",
      " народ\n",
      " на\n",
      " дороге\n",
      " Шумит\n",
      " и\n",
      " кричит\n",
      " и\n",
      " на\n",
      " кошку\n",
      " глядит\n",
      " А\n",
      " кошка\n",
      " отчасти\n",
      " идет\n",
      " по\n",
      " дороге\n",
      " Отчасти\n",
      " по\n",
      " воздуху\n",
      " плавно\n",
      " летит\n"
     ]
    }
   ],
   "source": [
    "poem3 = '\\n '.join(words) #соединяем с переносом строки\n",
    "print(poem3)"
   ]
  },
  {
   "cell_type": "code",
   "execution_count": 40,
   "metadata": {},
   "outputs": [
    {
     "name": "stdout",
     "output_type": "stream",
     "text": [
      " Несчастная\n"
     ]
    }
   ],
   "source": [
    "print(poem3[20:31]) #с 20 по 30 символ"
   ]
  },
  {
   "cell_type": "code",
   "execution_count": 57,
   "metadata": {},
   "outputs": [
    {
     "name": "stdout",
     "output_type": "stream",
     "text": [
      "[['Удивительная', 'кошка'], ['кошка', 'Несчастная'], ['Несчастная', 'кошка'], ['кошка', 'порезала'], ['порезала', 'лапу'], ['лапу', 'Сидит'], ['Сидит', 'и'], ['и', 'ни'], ['ни', 'шагу'], ['шагу', 'не'], ['не', 'может'], ['может', 'ступить'], ['ступить', 'Скорей'], ['Скорей', 'чтобы'], ['чтобы', 'вылечить'], ['вылечить', 'кошкину'], ['кошкину', 'лапу'], ['лапу', 'Воздушные'], ['Воздушные', 'шарики'], ['шарики', 'надо'], ['надо', 'купить'], ['купить', 'И'], ['И', 'сразу'], ['сразу', 'столпился'], ['столпился', 'народ'], ['народ', 'на'], ['на', 'дороге'], ['дороге', 'Шумит'], ['Шумит', 'и'], ['и', 'кричит'], ['кричит', 'и'], ['и', 'на'], ['на', 'кошку'], ['кошку', 'глядит'], ['глядит', 'А'], ['А', 'кошка'], ['кошка', 'отчасти'], ['отчасти', 'идет'], ['идет', 'по'], ['по', 'дороге'], ['дороге', 'Отчасти'], ['Отчасти', 'по'], ['по', 'воздуху'], ['воздуху', 'плавно'], ['плавно', 'летит']]\n"
     ]
    }
   ],
   "source": [
    "bigrams2 = []\n",
    "for i in range(len(words)-1): \n",
    "    bigrams2.append([words[i],words[i+1]])\n",
    "print(bigrams2)\n"
   ]
  },
  {
   "cell_type": "code",
   "execution_count": 58,
   "metadata": {},
   "outputs": [
    {
     "ename": "NameError",
     "evalue": "name 'b' is not defined",
     "output_type": "error",
     "traceback": [
      "\u001b[0;31m---------------------------------------------------------------------------\u001b[0m",
      "\u001b[0;31mNameError\u001b[0m                                 Traceback (most recent call last)",
      "\u001b[0;32m<ipython-input-58-a7660ea840b7>\u001b[0m in \u001b[0;36m<module>\u001b[0;34m()\u001b[0m\n\u001b[1;32m      2\u001b[0m bigrams_freq = [(b, bigrams2.count(b)) \n\u001b[1;32m      3\u001b[0m                 for b in (bigrams2)]\n\u001b[0;32m----> 4\u001b[0;31m \u001b[0mprint\u001b[0m\u001b[0;34m(\u001b[0m\u001b[0mb\u001b[0m\u001b[0;34m)\u001b[0m\u001b[0;34m\u001b[0m\u001b[0m\n\u001b[0m",
      "\u001b[0;31mNameError\u001b[0m: name 'b' is not defined"
     ]
    }
   ],
   "source": [
    "bigrams2 = tuple(bigrams2)\n",
    "bigrams_freq = [(b, bigrams2.count(b)) \n",
    "                for b in (bigrams2)]\n",
    "print(b)"
   ]
  },
  {
   "cell_type": "code",
   "execution_count": null,
   "metadata": {},
   "outputs": [],
   "source": []
  }
 ],
 "metadata": {
  "kernelspec": {
   "display_name": "Python 3",
   "language": "python",
   "name": "python3"
  },
  "language_info": {
   "codemirror_mode": {
    "name": "ipython",
    "version": 3
   },
   "file_extension": ".py",
   "mimetype": "text/x-python",
   "name": "python",
   "nbconvert_exporter": "python",
   "pygments_lexer": "ipython3",
   "version": "3.6.4"
  }
 },
 "nbformat": 4,
 "nbformat_minor": 2
}
