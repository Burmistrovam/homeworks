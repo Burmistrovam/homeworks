{
 "cells": [
  {
   "cell_type": "code",
   "execution_count": 41,
   "metadata": {},
   "outputs": [
    {
     "name": "stdout",
     "output_type": "stream",
     "text": [
      "[['варкалось', 'хливкие'], ['хливкие', 'шорьки'], ['шорьки', 'пырялись'], ['пырялись', 'по'], ['по', 'наве'], ['наве', 'и'], ['и', 'хрюкотали'], ['хрюкотали', 'зелюки'], ['зелюки', 'как'], ['как', 'мюмзики'], ['мюмзики', 'в'], ['в', 'мове'], ['мове', 'о'], ['о', 'бойся'], ['бойся', 'бармаглота'], ['бармаглота', 'сын'], ['сын', 'он'], ['он', 'так'], ['так', 'свирлеп'], ['свирлеп', 'и'], ['и', 'дик'], ['дик', 'а'], ['а', 'в'], ['в', 'глyще'], ['глyще', 'рымит'], ['рымит', 'исполин'], ['исполин', 'злопастный'], ['злопастный', 'брандашмыг']]\n"
     ]
    }
   ],
   "source": [
    "sentence = '''варкалось хливкие шорьки пырялись по наве и хрюкотали зелюки как мюмзики в мове о бойся бармаглота сын он так свирлеп и дик а в глyще рымит исполин злопастный брандашмыг'''\n",
    "words = sentence.split() #разделила на слова\n",
    "bigrams = []\n",
    "for i in range(len(words)-1): #сделала цикл\n",
    "    bigrams.append([words[i],words[i+1]])\n",
    "print(bigrams)\n"
   ]
  },
  {
   "cell_type": "code",
   "execution_count": null,
   "metadata": {},
   "outputs": [],
   "source": [
    "Задание 2\n",
    "\n",
    "1. Если вы не делали git pull или git clone: cкачать архив с текстовыми файлами отсюда и распаковать его. Если делали, то все нужные файлы уже есть в папке poem\n",
    "Распечатать текущую директорию и список всех файлов и папок в ней. Посчитать и распечатать количество файлов.\n",
    "Пройтись циклом по рабочей директории, читая содержимое каждого файла и записывая его в новый файл poems.txt По завершении цикла должен получиться файл со всеми стихотворениями!"
   ]
  },
  {
   "cell_type": "code",
   "execution_count": 1,
   "metadata": {},
   "outputs": [
    {
     "name": "stdout",
     "output_type": "stream",
     "text": [
      "/Users/mary/Desktop/Учеба/Учеба 18-19/Минор/python-dh-hw\n",
      "['.DS_Store', 'README.md', '.gitignore', 'HW1.ipynb', 'test.txt', 'hello.rtf', 'HW2.ipynb', 'HW2-checkpoint.ipynb', 'poems.txt', 'шредингер.txt', 'боль.txt', 'ворон.txt', 'кладь.txt', 'деды.txt', 'ночь.txt', 'король.txt', 'крестная.txt', 'гримм.txt', 'королевич.txt', 'яга.txt', 'кот.txt', 'пушок.txt', 'лео.txt', 'ORIG_HEAD', 'config', 'HEAD', 'description', 'index', 'packed-refs', 'COMMIT_EDITMSG', 'FETCH_HEAD', '06ebe16d5cb17aad2406a3aab421c17b36e519', '2a5a108612a54bfa7d538cdd4422e43bb8b3eb', 'fdfb5e2a7f5c131387827dfe1128277d942a58', 'a774ad1f8b170292c1b29474a6cabdb29d9235', '22c0f4635c1a100b891db84e8705775ac23be6', 'c861105ad83c201c5a56731c75d06f7756396c', '720feb2e1522fda2f142b505766338f7f35732', 'f222cd9e04f1a324cee698b560cda70ce11ad1', 'd651d06cfbb0f51cabdad17c65c9a6e8af624c', 'd87f7aea1e3ff8979b070e6b92a3af6cf26cac', '37c487679f6bf87d634e2a523b04819929515b', 'e5735b211eae0e69fc5b15dd8b25a32dc82f98', '1ebc2924cdd39d006e83dd1508d105ac11d350', '544d850d7da3d4b242f01fe0ddbb36bcc1452e', '20fa7d8ff00eb62b1bf308b5a51be0817567cb', 'b5672e27f226dd06d1a211f5d2ef4ee5d18e34', '44bdd0f9e11ffc70556eb4595039d970a009d4', 'bd4d543b481d032db442f6c2dab5b29557b983', 'b5f028c17d0c008e1d46f86fa8d76ec01d4a54', '8cda4047e4d249a5ec0d8feff7ea3e43135cb2', '503901331735e90ea877be69776c9c2400babb', 'aaaed2a61eb9ac124a4b595247d672a739199d', '8beb6abdb03197e8a8bf642e17045a333be84c', 'a082017387cc6a039531e1cf0fc607a7b3f1fa', '65b6f6b611f7d824d9ec92a9b39f5dbfcc3d76', 'c721b4962f41653b350cff06b95368daa2e835', 'c3240106c04c785f4871f60295c207578c0145', 'febb9fc517aeebc2a64a8758cc8b550809a4ea', '4b25d9f00e956acdbd31ffe036dc3f35316c0f', '24c1a352f48caf967495c924cdca97c6ae8961', '08b9efc320a602f58cdedeea48e348863d7aca', '140af4a54d6582403c1b8743f9cf5af620ad82', '7f4d2a73a70950f859bfd7db41608b01686761', '00be615b8cc697983e51a425d3c50284d37993', '67cef3b7eac4d418d907958e35d417ab33dfbf', '46418c7da1eb819e6ac3f5448d1cf2b13df771', 'fec8a7e3c82666c247fe3a23fbfb184f48bf2e', '0085c72c8541515d76aea1a4fabc6e0cd4f94e', '318b131418624d7e36f60032ff5278f57389bc', '4a44cc066a027465cd26d634948d56d13af9af', '09caea1f7a8d32569d27530463a4e1f07f7617', '59348ffff5bcade06301306cac6f6aff6f1eb3', '76e1f3ab84a0a779ede3a7c62c8f981ff99d87', '610e3166db412ae6c894983fb239225d2bc6fd', 'aa39f912980a1ae3ec4aedefd1346f00674b62', '826bd5416b8b12ab27f277838c301263e0734e', 'e6bdc3f533db4d3361c89f7b92ca8ec7a1fbb0', 'e0e21786559c2475172f0469ba7c294a578d3b', 'f03e64d2f929d182279bffbbe9f3aba8344f4e', 'b59850e0a4b117a521dce455a145d263364ca2', '817f5edab42f9f25bb27a1fd4fbb25417585ed', '6904b4a003530aa81899ec0cb8d30c830665c7', '70d26302e1c28723de41e7f55bcc3e21b61e77', 'b9003066ce913874de80e95aa26ea7abc6752a', '3c0b0bcf6595a47f0f2516346f3c9be00a99db', '3510707ed39f503d5c65902208c0bcfb5aa737', '419172bbcfe8442cd333a904daef600f7ecc09', '32860f5eed8ce882c48e66b5b5015f6c0dcdb0', '505ab56addf8e4159080009299e2ee3f532454', '13976816d4fc8c928e560b0709a987d1dd91e6', '34f92d7282c8e01be39ca09a24f50e1e96cb28', '6730dc270d5dda85f3544fb01bd93b19c18a66', '99157c38ee7a3ee07c183dd881a339df9dace6', 'ccb1a3a084cc1787fa03752f0a34c0096e01f2', '0522544b63cb2de87e6f5ca230f66341a8fb46', '3b063830b80b6e0447d94521e8a2d0e8822da6', 'e7c2e2679244dfbfe7a80313a057739c0c6d2a', '608ce4338ac4e1fef85c819cc22d6f4a1c875d', '83b728145251e4710f25eb88108fbf10817579', 'f935ff6e29459e4b8591b69146aa20d48d6617', '5444d36223db2cc8a7955a6ef7fb1c389325a8', 'a42a2808ce1b312a57286d046e468ef99c6d2b', 'c2792bd75d0c7b74a9bc7b558d7563b08e5d7d', '5bdd48426218b4bd4912a8c89c8502d2eb2b82', 'd3670791db45aafd7512a32c61da94947c558c', 'b886978dcdc49ff488adef3333e2d11cdda540', '08b82645e57ef94d0756e0de428f2a9e37ecce', 'df43902a5509356e0c85f51486019ffb668383', 'eb01ed028976869a93ba09e36c383b592d845a', '81b54597b348217dbb771e1aad7b79ecf8c760', 'e72c2a2b9ac3e0c9436229e580e5c7bebeb4f2', '3f3009694dea2afaa134137ec1920146919d02', '1e2b20fe35c878190cc046c50d80f7752b1480', 'e53e320d2c978bb2223de92ca6bbb8f05619ec', 'e54e4db7607c115088e6bfd4332d3a9a067582', 'f9fd84ee0680198e37108ff66f5b1afb892fe1', 'a6bbf345319f8ac16244ac0f7c554250c42783', '58e216f903c5345eee5a947f06a3f4b43c50e5', '141fda98c65b3f27b16e4fd3b67e62815ab6af', 'bfd21b7e33ddd171b0fcdb1b388594e9159315', 'd90fb8dcb309f31a53938fa95e14db1e5bd5e4', '746d56e60ec16c22c5f12389eaafaf9d0e92fd', 'bd0850fca3a256343f028dded1c9fb9a26da8f', '753425489d3d196f453815a2616d68094f9542', '1d6d493596b6006d3e1f8628069c5aa83b403a', 'b7dd7c98e18cf05175dae75368fa6c97dc284d', '76ed78ca691414206ed40a52af59d7fef7e4de', '84faa90a711c049c3e94813ac2f95a0dae6b70', '9432d02e1dcf989f3ec9e0124869b24840b5d1', '3535ef54619139824f704904af84b0a587ada3', 'cf69de44c871ceb3cd26f572af0504f86a48c0', '319765ea8cfff409da51661db94f91fce82682', '88a8a7d753c26a36c77e62df975863f4192ad5', 'ef2a1a44eb26b65e36d88935198f3625cf0c89', '509a829cabb520a32854f5a7b8550f39471a6a', 'c00f938d7e34c52edca7a71018975182503d7d', 'c1f92086141951badae3632bfc4f93b3583a42', 'fc2da24e683dcf2106b3c8d5c5f8a4c70b7fe8', 'a23dfb6ffd3c0927e223b1aed4b0268f428ddb', '8860d880ad71ad01d740c332e17036bd4e6657', 'd78f29069a6cef5503f4d837a0cf99fb7dc14e', 'd7049ea1dea7fa752709587dbd107fb5ac9775', '118bddc1af47b020ecb881c71fafc611ad08ba', '4a3313b0b8f2fef70f898282be33369484220e', '2f56c64508f37aea8321c0b71ab9fcaca8c4f8', '4f04427569471c344eb545d236474e1bb17656', '1b330e6066c0c4e4b46f85ca4b3a8470c4bf2b', 'd0d118ba3d5f4e0434a74a19f7d8006adbfce6', '513e24f0a55dc483d03016224c410cffaf13b2', '4c224375b6a9f55e9e11e9734c4ce0d7fcc322', 'exclude', 'HEAD', 'master', 'HEAD', 'master', 'commit-msg.sample', 'pre-rebase.sample', 'pre-commit.sample', 'applypatch-msg.sample', 'pre-receive.sample', 'prepare-commit-msg.sample', 'post-update.sample', 'pre-applypatch.sample', 'pre-push.sample', 'update.sample', 'master', 'HEAD', 'master', '.ipynb_checkpoints', 'poems', '.git', 'сказки', 'котики', 'objects', 'info', 'logs', 'hooks', 'refs', '59', '0c', '50', '57', '3b', '35', '56', '0b', '0e', '5a', '9c', 'a4', 'b5', 'b2', 'bb', 'd7', 'be', 'df', 'ae', 'd8', 'e2', 'f4', 'fc', 'fd', 'f2', 'fe', 'ed', '4b', 'pack', '11', '89', '45', '1f', '87', '28', '17', '7e', '4c', '21', '2a', '43', '88', '9f', '38', '5c', '5d', '31', 'info', '54', '53', '30', '37', '08', '01', '06', '6c', '55', '0f', '64', 'a7', 'b1', 'dd', 'a9', 'aa', 'af', 'b7', 'db', 'a8', 'de', 'a1', 'ef', 'ea', 'e1', 'cc', 'f9', 'f0', 'f7', 'fa', 'f1', 'e0', '79', '2d', '41', '48', '84', '23', '4f', '8d', '15', '8c', '71', '1c', '82', '40', '8b', '7a', 'refs', 'heads', 'remotes', 'origin', 'heads', 'tags', 'remotes', 'origin']\n",
      "169\n"
     ]
    }
   ],
   "source": [
    "import os #импорт модуля\n",
    "os.chdir('/Users/mary/Desktop/Учеба/Учеба 18-19/Минор/python-dh-hw/poems') #поменяла рабочую директорию\n",
    "print(os.getcwd())\n",
    "all_dirs = []\n",
    "all_files = []\n",
    "for root, dirs, files in os.walk('.'):\n",
    "    for papka in dirs:\n",
    "        all_dirs.append(papka)\n",
    "    for file in files:\n",
    "        all_files.append(file)\n",
    "print (all_files + all_dirs)\n",
    "print (len(all_files))"
   ]
  },
  {
   "cell_type": "code",
   "execution_count": 9,
   "metadata": {},
   "outputs": [
    {
     "name": "stdout",
     "output_type": "stream",
     "text": [
      "\n",
      "приходит муж домой пораньше \n",
      "измену в нём предположив \n",
      "а шрёдингер в шкафу не мёртв и \n",
      "не жив\n",
      "а боль у вас какого рода \n",
      "спросил дежурный врач а я \n",
      "как на духу она ответил \n",
      "моя\n",
      "американский чорный ворон \n",
      "как наш красив и голосист \n",
      "но попроси не виться сразу \n",
      "расист\n",
      "мы б вас охотно пропустили \n",
      "с ручною кладью но пока \n",
      "она у вас недопустимо \n",
      "дика \n",
      "на спиритическом сеансе \n",
      "желая водки и еды \n",
      "привычно вызывали духов \n",
      "деды \n",
      "ночь улица фонарь аптека \n",
      "вдруг вспомнил что утюг включон \n",
      "акетпа ираноф ацилу \n",
      "и ьчон\n",
      "\n"
     ]
    }
   ],
   "source": [
    "with open('poems.txt','w',encoding='utf-8') as f: \n",
    "    for root, dirs, files in os.walk('.'):\n",
    "        for file in files: #цикл\n",
    "            if os.path.exists(file): #условное выражение\n",
    "                with open(file,'r',encoding='utf-8') as name:\n",
    "                    name=name.read() #читаем файл \n",
    "                    f.write(name+ '\\n') #записываем с помощью функции\n",
    "            elif os.path.exists('.\\котики\\%s' %file):\n",
    "                with open('.\\котики\\%s' %file,'r',encoding='utf-8') as name:\n",
    "                    name=name.read()\n",
    "                    f.write(name+ '\\n')\n",
    "            elif os.path.exists('.\\сказки\\%s' %file):\n",
    "                with open('.\\сказки\\%s' %file,'r',encoding='utf-8') as name:\n",
    "                    name=name.read()\n",
    "                    f.write(name+ '\\n')\n",
    "with open ('poems.txt','r',encoding='utf-8') as q:\n",
    "    print (q.read())"
   ]
  },
  {
   "cell_type": "code",
   "execution_count": 2,
   "metadata": {},
   "outputs": [],
   "source": [
    "poem = '''Удивительная кошка\n",
    "\n",
    "Несчастная кошка порезала лапу- \n",
    "Сидит, и ни шагу не может ступить.\n",
    "Скорей, чтобы вылечить кошкину лапу\n",
    "Воздушные шарики надо купить!\n",
    "\n",
    "И сразу столпился народ на дороге-\n",
    "Шумит, и кричит, и на кошку глядит.\n",
    "А кошка отчасти идет по дороге,\n",
    "Отчасти по воздуху плавно летит!\n",
    "'''"
   ]
  },
  {
   "cell_type": "code",
   "execution_count": 3,
   "metadata": {},
   "outputs": [
    {
     "name": "stdout",
     "output_type": "stream",
     "text": [
      "291\n"
     ]
    }
   ],
   "source": [
    "print(len(poem)) #считаем кол-во слов #2\n"
   ]
  },
  {
   "cell_type": "code",
   "execution_count": 4,
   "metadata": {},
   "outputs": [
    {
     "name": "stdout",
     "output_type": "stream",
     "text": [
      "['Удивительная', 'кошка', 'Несчастная', 'кошка', 'порезала', 'лапу', 'Сидит', 'и', 'ни', 'шагу', 'не', 'может', 'ступить', 'Скорей', 'чтобы', 'вылечить', 'кошкину', 'лапу', 'Воздушные', 'шарики', 'надо', 'купить', 'И', 'сразу', 'столпился', 'народ', 'на', 'дороге', 'Шумит', 'и', 'кричит', 'и', 'на', 'кошку', 'глядит', 'А', 'кошка', 'отчасти', 'идет', 'по', 'дороге', 'Отчасти', 'по', 'воздуху', 'плавно', 'летит']\n"
     ]
    }
   ],
   "source": [
    "words2 = [] #3\n",
    "for word in poem.split(): #без генератора списка \n",
    "    words2.append(word.strip(\"!?.,-\"))\n",
    "print(words2)"
   ]
  },
  {
   "cell_type": "code",
   "execution_count": 5,
   "metadata": {
    "scrolled": true
   },
   "outputs": [
    {
     "name": "stdout",
     "output_type": "stream",
     "text": [
      "Удивительная кошка Несчастная кошка порезала лапу Сидит и ни шагу не может ступить Скорей чтобы вылечить кошкину лапу Воздушные шарики надо купить И сразу столпился народ на дороге Шумит и кричит и на кошку глядит А кошка отчасти идет по дороге Отчасти по воздуху плавно летит\n"
     ]
    }
   ],
   "source": [
    "poem2 = ' '.join(words2) #функция для соединения #4\n",
    "print(poem2)"
   ]
  },
  {
   "cell_type": "code",
   "execution_count": 12,
   "metadata": {},
   "outputs": [
    {
     "name": "stdout",
     "output_type": "stream",
     "text": [
      "['удивительная', 'кошка', 'несчастная', 'кошка', 'порезала', 'лапу', 'сидит', 'и', 'ни', 'шагу', 'не', 'может', 'ступить', 'скорей', 'чтобы', 'вылечить', 'кошкину', 'лапу', 'воздушные', 'шарики', 'надо', 'купить', 'и', 'сразу', 'столпился', 'народ', 'на', 'дороге', 'шумит', 'и', 'кричит', 'и', 'на', 'кошку', 'глядит', 'а', 'кошка', 'отчасти', 'идет', 'по', 'дороге', 'отчасти', 'по', 'воздуху', 'плавно', 'летит']\n"
     ]
    }
   ],
   "source": [
    "print ([word.lower() if word.istitle() else word for word in words2]) #5"
   ]
  },
  {
   "cell_type": "code",
   "execution_count": 6,
   "metadata": {},
   "outputs": [
    {
     "name": "stdout",
     "output_type": "stream",
     "text": [
      "46\n"
     ]
    }
   ],
   "source": [
    "print(len(words2)) #длина текста в словах #6"
   ]
  },
  {
   "cell_type": "code",
   "execution_count": 7,
   "metadata": {},
   "outputs": [
    {
     "name": "stdout",
     "output_type": "stream",
     "text": [
      "35\n"
     ]
    }
   ],
   "source": [
    "poem3 = set(poem2) #превращаем в множество, чтобы узнать кол-во уникальных слов #7\n",
    "print(len(poem3))"
   ]
  },
  {
   "cell_type": "code",
   "execution_count": 8,
   "metadata": {},
   "outputs": [
    {
     "name": "stdout",
     "output_type": "stream",
     "text": [
      "['кошка', 'отчасти', 'идет', 'по', 'дороге', 'Отчасти', 'по', 'воздуху', 'плавно', 'летит']\n"
     ]
    }
   ],
   "source": [
    "print(words2[-10:]) #печатаю последние 10 слов. #8"
   ]
  },
  {
   "cell_type": "code",
   "execution_count": 10,
   "metadata": {},
   "outputs": [
    {
     "name": "stdout",
     "output_type": "stream",
     "text": [
      "Удивительная\n",
      " кошка\n",
      " Несчастная\n",
      " кошка\n",
      " порезала\n",
      " лапу\n",
      " Сидит\n",
      " и\n",
      " ни\n",
      " шагу\n",
      " не\n",
      " может\n",
      " ступить\n",
      " Скорей\n",
      " чтобы\n",
      " вылечить\n",
      " кошкину\n",
      " лапу\n",
      " Воздушные\n",
      " шарики\n",
      " надо\n",
      " купить\n",
      " И\n",
      " сразу\n",
      " столпился\n",
      " народ\n",
      " на\n",
      " дороге\n",
      " Шумит\n",
      " и\n",
      " кричит\n",
      " и\n",
      " на\n",
      " кошку\n",
      " глядит\n",
      " А\n",
      " кошка\n",
      " отчасти\n",
      " идет\n",
      " по\n",
      " дороге\n",
      " Отчасти\n",
      " по\n",
      " воздуху\n",
      " плавно\n",
      " летит\n"
     ]
    }
   ],
   "source": [
    "poem3 = '\\n '.join(words2) #соединяем с переносом строки #9\n",
    "print(poem3)"
   ]
  },
  {
   "cell_type": "code",
   "execution_count": 11,
   "metadata": {
    "scrolled": true
   },
   "outputs": [
    {
     "name": "stdout",
     "output_type": "stream",
     "text": [
      " Несчастная\n"
     ]
    }
   ],
   "source": [
    "print(poem3[20:31]) #с 20 по 30 символ #10"
   ]
  },
  {
   "cell_type": "code",
   "execution_count": 14,
   "metadata": {},
   "outputs": [
    {
     "name": "stdout",
     "output_type": "stream",
     "text": [
      "[['Удивительная', 'кошка'], ['кошка', 'Несчастная'], ['Несчастная', 'кошка'], ['кошка', 'порезала'], ['порезала', 'лапу'], ['лапу', 'Сидит'], ['Сидит', 'и'], ['и', 'ни'], ['ни', 'шагу'], ['шагу', 'не'], ['не', 'может'], ['может', 'ступить'], ['ступить', 'Скорей'], ['Скорей', 'чтобы'], ['чтобы', 'вылечить'], ['вылечить', 'кошкину'], ['кошкину', 'лапу'], ['лапу', 'Воздушные'], ['Воздушные', 'шарики'], ['шарики', 'надо'], ['надо', 'купить'], ['купить', 'И'], ['И', 'сразу'], ['сразу', 'столпился'], ['столпился', 'народ'], ['народ', 'на'], ['на', 'дороге'], ['дороге', 'Шумит'], ['Шумит', 'и'], ['и', 'кричит'], ['кричит', 'и'], ['и', 'на'], ['на', 'кошку'], ['кошку', 'глядит'], ['глядит', 'А'], ['А', 'кошка'], ['кошка', 'отчасти'], ['отчасти', 'идет'], ['идет', 'по'], ['по', 'дороге'], ['дороге', 'Отчасти'], ['Отчасти', 'по'], ['по', 'воздуху'], ['воздуху', 'плавно'], ['плавно', 'летит']]\n"
     ]
    }
   ],
   "source": [
    "bigrams2 = []\n",
    "for i in range(len(words2)-1): \n",
    "    bigrams2.append([words2[i],words2[i+1]])\n",
    "print(bigrams2)\n"
   ]
  },
  {
   "cell_type": "code",
   "execution_count": null,
   "metadata": {},
   "outputs": [],
   "source": []
  }
 ],
 "metadata": {
  "kernelspec": {
   "display_name": "Python 3",
   "language": "python",
   "name": "python3"
  },
  "language_info": {
   "codemirror_mode": {
    "name": "ipython",
    "version": 3
   },
   "file_extension": ".py",
   "mimetype": "text/x-python",
   "name": "python",
   "nbconvert_exporter": "python",
   "pygments_lexer": "ipython3",
   "version": "3.6.4"
  }
 },
 "nbformat": 4,
 "nbformat_minor": 2
}
