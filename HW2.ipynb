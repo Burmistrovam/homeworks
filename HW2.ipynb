{
 "cells": [
  {
   "cell_type": "code",
   "execution_count": 4,
   "metadata": {},
   "outputs": [
    {
     "name": "stdout",
     "output_type": "stream",
     "text": [
      "[['варкалось', 'хливкие'], ['хливкие', 'шорьки'], ['шорьки', 'пырялись'], ['пырялись', 'по'], ['по', 'наве'], ['наве', 'и'], ['и', 'хрюкотали'], ['хрюкотали', 'зелюки'], ['зелюки', 'как'], ['как', 'мюмзики'], ['мюмзики', 'в'], ['в', 'мове'], ['мове', 'о'], ['о', 'бойся'], ['бойся', 'бармаглота'], ['бармаглота', 'сын'], ['сын', 'он'], ['он', 'так'], ['так', 'свирлеп'], ['свирлеп', 'и'], ['и', 'дик'], ['дик', 'а'], ['а', 'в'], ['в', 'глyще'], ['глyще', 'рымит'], ['рымит', 'исполин'], ['исполин', 'злопастный'], ['злопастный', 'брандашмыг']]\n"
     ]
    }
   ],
   "source": [
    "sentence = '''варкалось хливкие шорьки пырялись по наве и хрюкотали зелюки как мюмзики в мове о бойся бармаглота сын он так свирлеп и дик а в глyще рымит исполин злопастный брандашмыг'''\n",
    "words = sentence.split() #разделила на слова\n",
    "bigrams = []\n",
    "for i in range(len(words)-1): #сделала цикл\n",
    "    bigrams.append([words[i],words[i+1]])\n",
    "print(bigrams)\n"
   ]
  },
  {
   "cell_type": "code",
   "execution_count": 7,
   "metadata": {},
   "outputs": [
    {
     "name": "stdout",
     "output_type": "stream",
     "text": [
      "['сказки', 'котики']\n",
      "['шредингер.txt', 'боль.txt', 'ворон.txt', 'кладь.txt', 'деды.txt', 'ночь.txt']\n",
      "6\n",
      "[]\n",
      "['король.txt', 'крестная.txt', 'гримм.txt', 'королевич.txt', 'яга.txt']\n",
      "5\n",
      "[]\n",
      "['кот.txt', 'пушок.txt', 'лео.txt']\n",
      "3\n"
     ]
    }
   ],
   "source": [
    "import os #импорт модуля\n",
    "os.chdir('/Users/mary/Desktop/Учеба/Учеба 18-19/Минор/python-dh-hw/poems') #поменяла рабочую директорию\n",
    "for root, dirs, files in os.walk('.'): #использую в цикле функцию\n",
    "    print (dirs) \n",
    "    print (files) \n",
    "    print(len(files)) "
   ]
  },
  {
   "cell_type": "code",
   "execution_count": 9,
   "metadata": {},
   "outputs": [
    {
     "name": "stdout",
     "output_type": "stream",
     "text": [
      "\n",
      "приходит муж домой пораньше \n",
      "измену в нём предположив \n",
      "а шрёдингер в шкафу не мёртв и \n",
      "не жив\n",
      "а боль у вас какого рода \n",
      "спросил дежурный врач а я \n",
      "как на духу она ответил \n",
      "моя\n",
      "американский чорный ворон \n",
      "как наш красив и голосист \n",
      "но попроси не виться сразу \n",
      "расист\n",
      "мы б вас охотно пропустили \n",
      "с ручною кладью но пока \n",
      "она у вас недопустимо \n",
      "дика \n",
      "на спиритическом сеансе \n",
      "желая водки и еды \n",
      "привычно вызывали духов \n",
      "деды \n",
      "ночь улица фонарь аптека \n",
      "вдруг вспомнил что утюг включон \n",
      "акетпа ираноф ацилу \n",
      "и ьчон\n",
      "\n"
     ]
    }
   ],
   "source": [
    "with open('poems.txt','w',encoding='utf-8') as f: \n",
    "    for root, dirs, files in os.walk('.'):\n",
    "        for file in files: #цикл\n",
    "            if os.path.exists(file): #условное выражение\n",
    "                with open(file,'r',encoding='utf-8') as name:\n",
    "                    name=name.read() #читаем файл \n",
    "                    f.write(name+ '\\n') #записываем с помощью функции\n",
    "            elif os.path.exists('.\\котики\\%s' %file):\n",
    "                with open('.\\котики\\%s' %file,'r',encoding='utf-8') as name:\n",
    "                    name=name.read()\n",
    "                    f.write(name+ '\\n')\n",
    "            elif os.path.exists('.\\сказки\\%s' %file):\n",
    "                with open('.\\сказки\\%s' %file,'r',encoding='utf-8') as name:\n",
    "                    name=name.read()\n",
    "                    f.write(name+ '\\n')\n",
    "with open ('poems.txt','r',encoding='utf-8') as q:\n",
    "    print (q.read())"
   ]
  },
  {
   "cell_type": "code",
   "execution_count": null,
   "metadata": {},
   "outputs": [],
   "source": []
  }
 ],
 "metadata": {
  "kernelspec": {
   "display_name": "Python 3",
   "language": "python",
   "name": "python3"
  },
  "language_info": {
   "codemirror_mode": {
    "name": "ipython",
    "version": 3
   },
   "file_extension": ".py",
   "mimetype": "text/x-python",
   "name": "python",
   "nbconvert_exporter": "python",
   "pygments_lexer": "ipython3",
   "version": "3.6.4"
  }
 },
 "nbformat": 4,
 "nbformat_minor": 2
}
