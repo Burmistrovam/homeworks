{
 "cells": [
  {
   "cell_type": "code",
   "execution_count": 4,
   "metadata": {},
   "outputs": [
    {
     "name": "stdout",
     "output_type": "stream",
     "text": [
      "[['варкалось', 'хливкие'], ['хливкие', 'шорьки'], ['шорьки', 'пырялись'], ['пырялись', 'по'], ['по', 'наве'], ['наве', 'и'], ['и', 'хрюкотали'], ['хрюкотали', 'зелюки'], ['зелюки', 'как'], ['как', 'мюмзики'], ['мюмзики', 'в'], ['в', 'мове'], ['мове', 'о'], ['о', 'бойся'], ['бойся', 'бармаглота'], ['бармаглота', 'сын'], ['сын', 'он'], ['он', 'так'], ['так', 'свирлеп'], ['свирлеп', 'и'], ['и', 'дик'], ['дик', 'а'], ['а', 'в'], ['в', 'глyще'], ['глyще', 'рымит'], ['рымит', 'исполин'], ['исполин', 'злопастный'], ['злопастный', 'брандашмыг']]\n"
     ]
    }
   ],
   "source": [
    "sentence = '''варкалось хливкие шорьки пырялись по наве и хрюкотали зелюки как мюмзики в мове о бойся бармаглота сын он так свирлеп и дик а в глyще рымит исполин злопастный брандашмыг'''\n",
    "words = sentence.split()\n",
    "bigrams = []\n",
    "for i in range(len(words)-1):\n",
    "    bigrams.append([words[i],words[i+1]])\n",
    "print(bigrams)\n"
   ]
  },
  {
   "cell_type": "code",
   "execution_count": null,
   "metadata": {},
   "outputs": [],
   "source": []
  }
 ],
 "metadata": {
  "kernelspec": {
   "display_name": "Python 3",
   "language": "python",
   "name": "python3"
  },
  "language_info": {
   "codemirror_mode": {
    "name": "ipython",
    "version": 3
   },
   "file_extension": ".py",
   "mimetype": "text/x-python",
   "name": "python",
   "nbconvert_exporter": "python",
   "pygments_lexer": "ipython3",
   "version": "3.6.4"
  }
 },
 "nbformat": 4,
 "nbformat_minor": 2
}
