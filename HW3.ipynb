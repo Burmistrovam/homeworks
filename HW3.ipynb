{
 "cells": [
  {
   "cell_type": "code",
   "execution_count": 1,
   "metadata": {},
   "outputs": [
    {
     "ename": "SyntaxError",
     "evalue": "invalid character in identifier (<ipython-input-1-94055b1a0f51>, line 1)",
     "output_type": "error",
     "traceback": [
      "\u001b[0;36m  File \u001b[0;32m\"<ipython-input-1-94055b1a0f51>\"\u001b[0;36m, line \u001b[0;32m1\u001b[0m\n\u001b[0;31m    Задание №1\u001b[0m\n\u001b[0m             ^\u001b[0m\n\u001b[0;31mSyntaxError\u001b[0m\u001b[0;31m:\u001b[0m invalid character in identifier\n"
     ]
    }
   ],
   "source": [
    "Задание №1\n",
    "Скачайте текст \"Литературных анекдотов\". Напишите функцию, которая будет читать файл, лемматизировать текст с помощью pymystem3 и записывать результат в новый файл. У функции должно бы два аргумента: путь к исходному файлу и путь к файлу с лемматизированным текстом. Вызов функции тоже должен быть прописан в решении."
   ]
  },
  {
   "cell_type": "code",
   "execution_count": 6,
   "metadata": {},
   "outputs": [],
   "source": [
    "from pymystem3 import Mystem\n",
    "import os"
   ]
  },
  {
   "cell_type": "code",
   "execution_count": 30,
   "metadata": {},
   "outputs": [],
   "source": [
    "def lemmas_to_file(file_in, file_out): #создала функцию\n",
    "    with open(file_in, 'r', encoding='utf-8') as f:\n",
    "        text = f.read() #прочла файл\n",
    "        m = Mystem()\n",
    "        lemmas = m.lemmatize(text) #лемматизация с помощью pymystem3\n",
    "        text_lemma = ''.join(lemmas)\n",
    "        # записываем текст в файл\n",
    "    "
   ]
  },
  {
   "cell_type": "code",
   "execution_count": 31,
   "metadata": {},
   "outputs": [
    {
     "name": "stdout",
     "output_type": "stream",
     "text": [
      "Введите путь к исходному файлу\n",
      "literary_anecdotes.txt\n",
      "Напишите имя конечного файла\n",
      "lemmatized.txt\n"
     ]
    }
   ],
   "source": [
    "lemmas_to_file(input(\"Введите путь к исходному файлу\\n\"), input(\"Напишите имя конечного файла\\n\"))"
   ]
  },
  {
   "cell_type": "code",
   "execution_count": null,
   "metadata": {},
   "outputs": [],
   "source": [
    "Задание №2\n",
    "Очистите лемматизированный текст от стоп-слов и посчитайте ipm для оставшихся. Выведите 20 самых частотных по этому параметру слов."
   ]
  },
  {
   "cell_type": "code",
   "execution_count": 29,
   "metadata": {},
   "outputs": [
    {
     "name": "stdout",
     "output_type": "stream",
     "text": [
      "[('пушкин', 59), ('толстой', 33), ('гоголь', 31), ('однажды', 29), ('лев', 25), ('любить', 20), ('достоевский', 20), ('тургенев', 16), ('ребенок', 15), ('царствие', 15), ('небесный', 15), ('окно', 12), ('тверской', 12), ('бульвар', 12), ('приходить', 12), ('лермонтов', 12), ('федор', 11), ('михайлович', 11), ('идти', 10), ('герцен', 10)]\n"
     ]
    }
   ],
   "source": [
    "from collections import Counter #импорт\n",
    "\n",
    "text_halfclean = [w.strip(\"!\\\"#$%&'()*+,./:;<=>?@[\\]^_`{|}~„“«»†*—/\\-—\") for w in text_lemma.split()] #очищение от знаков пунктуации \n",
    "text_clean = [w for w in text_halfclean if len(w) != 0] # очищаем от пустых элементов\n",
    "\n",
    "# Открываем файл со стоп-словами\n",
    "with open('rus_stopwords.txt', 'r', encoding='utf-8') as f:\n",
    "    stopwords = f.read()\n",
    "\n",
    "stopwords = stopwords.split('\\n') # делаем список по переносу строки\n",
    "text_clean = [w for w in text_clean if w not in stopwords] # в новый список все слова, кроме стоп слов\n",
    "\n",
    "\n",
    "# Считаем и выводим\n",
    "counts = Counter(text_clean)\n",
    "print(counts.most_common(20))"
   ]
  },
  {
   "cell_type": "code",
   "execution_count": null,
   "metadata": {},
   "outputs": [],
   "source": [
    "Задание №3\n",
    "Сделайте полный морфологический разбор исходного текста. Напишите регулярное выражение, которое будет извлекать из тега только часть речи. Пройдитесь циклом по списку с разборами, который выдал pymystem3, извлекая из каждого разбора форму слова и его часть речи и записывая их в новый словарь (форма -- ключ, часть речи -- значение). Посчитайте абсолютную частоту для всех частей речи, а затем относительнную частоту (абсолютная частота / длина текста в словах)."
   ]
  },
  {
   "cell_type": "code",
   "execution_count": null,
   "metadata": {},
   "outputs": [],
   "source": []
  }
 ],
 "metadata": {
  "kernelspec": {
   "display_name": "Python 3",
   "language": "python",
   "name": "python3"
  },
  "language_info": {
   "codemirror_mode": {
    "name": "ipython",
    "version": 3
   },
   "file_extension": ".py",
   "mimetype": "text/x-python",
   "name": "python",
   "nbconvert_exporter": "python",
   "pygments_lexer": "ipython3",
   "version": "3.6.4"
  }
 },
 "nbformat": 4,
 "nbformat_minor": 2
}
