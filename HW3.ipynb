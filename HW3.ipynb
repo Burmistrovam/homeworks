{
 "cells": [
  {
   "cell_type": "markdown",
   "metadata": {},
   "source": [
    "# Задание №1\n",
    "Скачайте текст \"Литературных анекдотов\". Напишите функцию, которая будет читать файл, лемматизировать текст с помощью pymystem3 и записывать результат в новый файл. У функции должно бы два аргумента: путь к исходному файлу и путь к файлу с лемматизированным текстом. Вызов функции тоже должен быть прописан в решении."
   ]
  },
  {
   "cell_type": "code",
   "execution_count": 6,
   "metadata": {},
   "outputs": [],
   "source": [
    "from pymystem3 import Mystem\n",
    "import os"
   ]
  },
  {
   "cell_type": "code",
   "execution_count": 28,
   "metadata": {},
   "outputs": [],
   "source": [
    "def lemmas_to_file(file_in, file_out): #создала функцию\n",
    "    with open(file_in, 'r', encoding='utf-8') as f:\n",
    "        text = f.read() #прочла файл\n",
    "        m = Mystem()\n",
    "        lemmas = m.lemmatize(text) #лемматизация с помощью pymystem3\n",
    "        text_lemma = ''.join(lemmas)\n",
    "        # записываем текст в файл\n",
    "    "
   ]
  },
  {
   "cell_type": "code",
   "execution_count": 29,
   "metadata": {},
   "outputs": [
    {
     "name": "stdout",
     "output_type": "stream",
     "text": [
      "Введите путь к исходному файлу\n",
      "literary_anecdotes.txt\n",
      "Напишите имя конечного файла\n",
      "finalvariant.txt\n"
     ]
    }
   ],
   "source": [
    "lemmas_to_file(input(\"Введите путь к исходному файлу\\n\"), input(\"Напишите имя итогового файла\\n\"))"
   ]
  },
  {
   "cell_type": "markdown",
   "metadata": {},
   "source": [
    "#Задание №2\n",
    "Очистите лемматизированный текст от стоп-слов и посчитайте ipm для оставшихся. Выведите 20 самых частотных по этому параметру слов."
   ]
  },
  {
   "cell_type": "code",
   "execution_count": 57,
   "metadata": {},
   "outputs": [
    {
     "name": "stdout",
     "output_type": "stream",
     "text": [
      "[('и', 142), ('он', 107), ('в', 66), ('не', 60), ('пушкин', 59), ('на', 43), ('а', 41), ('что', 34), ('толстой', 33), ('гоголь', 31), ('однажды', 29), ('лев', 25), ('быть', 24), ('с', 24), ('я', 24), ('все', 21), ('же', 21), ('у', 20), ('любить', 20), ('достоевский', 20)]\n"
     ]
    }
   ],
   "source": [
    "from collections import Counter #импорт\n",
    "\n",
    "text_cleared = [w.strip(\"!\\\"#$%&'()*+,./:;<=>?@[\\]^_`{|}~„“«»†*—/\\-—\") for w in text_lemma.split()] #очищение от знаков пунктуации \n",
    "text_complete = [w for w in text_cleared if len(w) != 0] # очищаем от пустых элементов\n",
    "with open('rus_stopwords.txt', 'r', encoding='utf-8') as f: #открыла файл со стоп-словами\n",
    "    stopwords = f.read()\n",
    "stopwords = stopwords.split('\\n') # сделал список с переносами строки\n",
    "text_clean = [w for w in text_complete if w not in stopwords] # в новый список все слова, кроме стоп слов\n",
    "\n",
    "counts = Counter(text_complete) #считаем\n",
    "print(counts.most_common(20)) #выводим итог"
   ]
  },
  {
   "cell_type": "markdown",
   "metadata": {},
   "source": [
    "#Задание №3\n",
    "Сделайте полный морфологический разбор исходного текста. Напишите регулярное выражение, которое будет извлекать из тега только часть речи. Пройдитесь циклом по списку с разборами, который выдал pymystem3, извлекая из каждого разбора форму слова и его часть речи и записывая их в новый словарь (форма -- ключ, часть речи -- значение). Посчитайте абсолютную частоту для всех частей речи, а затем относительнную частоту (абсолютная частота / длина текста в словах)."
   ]
  },
  {
   "cell_type": "code",
   "execution_count": 1,
   "metadata": {},
   "outputs": [
    {
     "ename": "NameError",
     "evalue": "name 'm' is not defined",
     "output_type": "error",
     "traceback": [
      "\u001b[0;31m---------------------------------------------------------------------------\u001b[0m",
      "\u001b[0;31mNameError\u001b[0m                                 Traceback (most recent call last)",
      "\u001b[0;32m<ipython-input-1-e63145c76831>\u001b[0m in \u001b[0;36m<module>\u001b[0;34m()\u001b[0m\n\u001b[1;32m      1\u001b[0m \u001b[0;32mwith\u001b[0m \u001b[0mopen\u001b[0m\u001b[0;34m(\u001b[0m\u001b[0;34m'literary_anecdotes.txt'\u001b[0m\u001b[0;34m,\u001b[0m \u001b[0;34m'r'\u001b[0m\u001b[0;34m,\u001b[0m \u001b[0mencoding\u001b[0m\u001b[0;34m=\u001b[0m\u001b[0;34m'utf-8'\u001b[0m\u001b[0;34m)\u001b[0m \u001b[0;32mas\u001b[0m \u001b[0mf\u001b[0m\u001b[0;34m:\u001b[0m \u001b[0;31m#открываем исходный файл\u001b[0m\u001b[0;34m\u001b[0m\u001b[0m\n\u001b[1;32m      2\u001b[0m     \u001b[0mtale\u001b[0m \u001b[0;34m=\u001b[0m \u001b[0mf\u001b[0m\u001b[0;34m.\u001b[0m\u001b[0mread\u001b[0m\u001b[0;34m(\u001b[0m\u001b[0;34m)\u001b[0m\u001b[0;34m\u001b[0m\u001b[0m\n\u001b[0;32m----> 3\u001b[0;31m \u001b[0mtale2\u001b[0m \u001b[0;34m=\u001b[0m \u001b[0mm\u001b[0m\u001b[0;34m.\u001b[0m\u001b[0manalyze\u001b[0m\u001b[0;34m(\u001b[0m\u001b[0mtale\u001b[0m\u001b[0;34m)\u001b[0m \u001b[0;31m#анализ\u001b[0m\u001b[0;34m\u001b[0m\u001b[0m\n\u001b[0m\u001b[1;32m      4\u001b[0m \u001b[0;34m\u001b[0m\u001b[0m\n\u001b[1;32m      5\u001b[0m \u001b[0mwords\u001b[0m \u001b[0;34m=\u001b[0m \u001b[0;34m{\u001b[0m\u001b[0;34m}\u001b[0m \u001b[0;31m#создаем словарь\u001b[0m\u001b[0;34m\u001b[0m\u001b[0m\n",
      "\u001b[0;31mNameError\u001b[0m: name 'm' is not defined"
     ]
    }
   ],
   "source": [
    "with open('literary_anecdotes.txt', 'r', encoding='utf-8') as f: #открываем исходный файл\n",
    "    tale = f.read()\n",
    "tale2 = m.analyze(tale) #анализ\n",
    "\n",
    "words = {} #создаем словарь\n",
    " #я не смогла сделать это задание, к сожалению"
   ]
  },
  {
   "cell_type": "code",
   "execution_count": null,
   "metadata": {},
   "outputs": [],
   "source": []
  }
 ],
 "metadata": {
  "kernelspec": {
   "display_name": "Python 3",
   "language": "python",
   "name": "python3"
  },
  "language_info": {
   "codemirror_mode": {
    "name": "ipython",
    "version": 3
   },
   "file_extension": ".py",
   "mimetype": "text/x-python",
   "name": "python",
   "nbconvert_exporter": "python",
   "pygments_lexer": "ipython3",
   "version": "3.6.4"
  }
 },
 "nbformat": 4,
 "nbformat_minor": 2
}
