{
 "cells": [
  {
   "cell_type": "code",
   "execution_count": null,
   "metadata": {},
   "outputs": [],
   "source": [
    "Домашнее задание №4\n",
    "Задание 1.\n",
    "Скачайте из папки с домашними заданиями английский текст первой книги о Гарри Поттере. Он должен быть сохранен отдельным файлом.\n",
    "Очистите текст от пунктуации, приведите его к нижнему регистру, лемматизируйте и запишите в новый файл. Проверьте, выполняется ли здесь закон Ципфа. Для этого постройте линейную диаграмму, где по оси Х будет ранг (порядковый номер) слова в отсортированном по убыванию частотном словаре, а по оси Y - относительная частота (абсолютная частота, разделенная на количество слов в тексте). Т.е. у самого частотного слова будет ранг 1, у второго по частоте -- 2 и т.д.\n",
    "Очистите текст от стоп-слов. Постройте barplot для 30 самых частотных слов. Эти слова должны быть по оси Х в виде подписей к делениям. Значениями по этой оси будет ряд чисел от 0 до 30."
   ]
  },
  {
   "cell_type": "code",
   "execution_count": 17,
   "metadata": {},
   "outputs": [],
   "source": [
    "import re\n",
    "punct = \"!\\\"#$%&()*+,-./:;<=>?@[\\]^_`{|}~„“«»†*—/\"\n",
    "all_words = hpatps.split()\n",
    "depuncted = []\n",
    "for word in all_words:\n",
    "    word = word.strip(punct)\n",
    "    depuncted.append(word)\n",
    "#очищаем текст от пунктуации"
   ]
  },
  {
   "cell_type": "code",
   "execution_count": 20,
   "metadata": {},
   "outputs": [],
   "source": [
    "with open ('/Users/mary/Desktop/Учеба/python-dh-hw/Harry_Potter_and_the_Sorcerers_Stone.txt', 'r', encoding = 'utf-8') as hpatps:\n",
    "    hpatps = hpatps.read()\n",
    "hpatps = hpatps.lower()\n",
    "#приводим к нижнему регистру"
   ]
  },
  {
   "cell_type": "code",
   "execution_count": 7,
   "metadata": {},
   "outputs": [],
   "source": [
    "from nltk import WordNetLemmatizer\n",
    "wnl = WordNetLemmatizer()\n",
    "lmtzd = [wnl.lemmatize(word, pos = 'v') for word in depuncted]\n",
    "lmtzd = []\n",
    "for word in depuncted:\n",
    "    word = wnl.lemmatize(word, pos = 'v')\n",
    "    word = wnl.lemmatize(word, pos = 'n')\n",
    "    lmtzd.append(word)\n",
    "#лемматризируем"
   ]
  },
  {
   "cell_type": "code",
   "execution_count": 8,
   "metadata": {},
   "outputs": [],
   "source": [
    "hpatps = ' '.join(lmtzd)\n",
    "with open ('/Users/mary/Desktop/Учеба/Учеба 18-19/Минор/python-dh-hw/new_file.txt', 'w', encoding = 'utf-8') as new:\n",
    "    new.write(hpatps)\n",
    "#записываем как новый файл"
   ]
  },
  {
   "cell_type": "code",
   "execution_count": 16,
   "metadata": {},
   "outputs": [
    {
     "data": {
      "image/png": "[encoded data removed]",
      "text/plain": [
       "<Figure size 432x288 with 1 Axes>"
      ]
     },
     "metadata": {
      "needs_background": "light"
     },
     "output_type": "display_data"
    }
   ],
   "source": [
    "import matplotlib\n",
    "d ={}\n",
    "for word in hpatps.split():\n",
    "    if word not in d:\n",
    "        d[word] = 1\n",
    "    else:\n",
    "        d[word] += 1\n",
    "sorting = sorted(d.items(), key = lambda x: x[1], reverse = True)\n",
    "Y = [x[1] for x in sorting]\n",
    "X = []\n",
    "for i in range (1, len(d)+1):\n",
    "    X.append(i)\n",
    "    import matplotlib.pyplot as plt \n",
    "plt.plot(X,Y)\n",
    "plt.show()\n",
    "#проверка закона Ципфа"
   ]
  },
  {
   "cell_type": "code",
   "execution_count": 13,
   "metadata": {},
   "outputs": [],
   "source": [
    "from nltk.corpus import stopwords\n",
    "sw = stopwords.words('english')\n",
    "filtered_y = [s[1] for s in sorting if s[0] not in sw]\n",
    "#очищаем от стоп-слов"
   ]
  },
  {
   "cell_type": "code",
   "execution_count": 15,
   "metadata": {},
   "outputs": [
    {
     "data": {
      "image/png": "[encoded data removed]",
      "text/plain": [
       "<Figure size 432x288 with 1 Axes>"
      ]
     },
     "metadata": {
      "needs_background": "light"
     },
     "output_type": "display_data"
    }
   ],
   "source": [
    "new_y = filtered_y[:30]\n",
    "new_x = [i for i in range(0, 30)]\n",
    "plt.xticks(new_x, [s[0] for s in sorting[:30]], rotation=90)\n",
    "plt.bar(new_x, new_y)\n",
    "plt.show()\n",
    "#barplot для 30 самых частотных слов"
   ]
  },
  {
   "cell_type": "code",
   "execution_count": null,
   "metadata": {},
   "outputs": [],
   "source": []
  }
 ],
 "metadata": {
  "kernelspec": {
   "display_name": "Python 3",
   "language": "python",
   "name": "python3"
  },
  "language_info": {
   "codemirror_mode": {
    "name": "ipython",
    "version": 3
   },
   "file_extension": ".py",
   "mimetype": "text/x-python",
   "name": "python",
   "nbconvert_exporter": "python",
   "pygments_lexer": "ipython3",
   "version": "3.6.4"
  }
 },
 "nbformat": 4,
 "nbformat_minor": 2
}
